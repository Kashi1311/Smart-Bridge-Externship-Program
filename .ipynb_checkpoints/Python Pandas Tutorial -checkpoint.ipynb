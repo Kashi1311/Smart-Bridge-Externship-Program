{
 "cells": [
  {
   "cell_type": "code",
   "execution_count": 2,
   "id": "ca54d083",
   "metadata": {},
   "outputs": [],
   "source": [
    "import pandas as pd\n",
    "import numpy as np"
   ]
  },
  {
   "cell_type": "code",
   "execution_count": 3,
   "id": "e3db9b30",
   "metadata": {},
   "outputs": [],
   "source": [
    "## Series : It is one dimensional labelled array that can hold any type of data ##"
   ]
  },
  {
   "cell_type": "code",
   "execution_count": 5,
   "id": "8aee45c0",
   "metadata": {},
   "outputs": [],
   "source": [
    "s = pd.Series(np.random.rand(5))"
   ]
  },
  {
   "cell_type": "code",
   "execution_count": 6,
   "id": "ece78ba3",
   "metadata": {},
   "outputs": [
    {
     "data": {
      "text/plain": [
       "0    0.292790\n",
       "1    0.553280\n",
       "2    0.046081\n",
       "3    0.397644\n",
       "4    0.098913\n",
       "dtype: float64"
      ]
     },
     "execution_count": 6,
     "metadata": {},
     "output_type": "execute_result"
    }
   ],
   "source": [
    "s"
   ]
  },
  {
   "cell_type": "code",
   "execution_count": 7,
   "id": "77f92ca5",
   "metadata": {},
   "outputs": [
    {
     "data": {
      "text/plain": [
       "0.5532802113672404"
      ]
     },
     "execution_count": 7,
     "metadata": {},
     "output_type": "execute_result"
    }
   ],
   "source": [
    "s[1]"
   ]
  },
  {
   "cell_type": "code",
   "execution_count": 8,
   "id": "660a5323",
   "metadata": {},
   "outputs": [
    {
     "data": {
      "text/plain": [
       "1    0.553280\n",
       "2    0.046081\n",
       "3    0.397644\n",
       "4    0.098913\n",
       "dtype: float64"
      ]
     },
     "execution_count": 8,
     "metadata": {},
     "output_type": "execute_result"
    }
   ],
   "source": [
    "s[1:]"
   ]
  },
  {
   "cell_type": "code",
   "execution_count": 9,
   "id": "39d6602a",
   "metadata": {},
   "outputs": [
    {
     "data": {
      "text/plain": [
       "0    0.292790\n",
       "1    0.553280\n",
       "2    0.046081\n",
       "dtype: float64"
      ]
     },
     "execution_count": 9,
     "metadata": {},
     "output_type": "execute_result"
    }
   ],
   "source": [
    "s[:3]"
   ]
  },
  {
   "cell_type": "code",
   "execution_count": 10,
   "id": "87cefcc9",
   "metadata": {},
   "outputs": [
    {
     "data": {
      "text/plain": [
       "0    0.292790\n",
       "1    0.553280\n",
       "2    0.046081\n",
       "3    0.397644\n",
       "dtype: float64"
      ]
     },
     "execution_count": 10,
     "metadata": {},
     "output_type": "execute_result"
    }
   ],
   "source": [
    "s[:-1]"
   ]
  },
  {
   "cell_type": "code",
   "execution_count": 12,
   "id": "e8f870f8",
   "metadata": {},
   "outputs": [],
   "source": [
    "s[0] = 500"
   ]
  },
  {
   "cell_type": "code",
   "execution_count": 13,
   "id": "40607cbe",
   "metadata": {},
   "outputs": [
    {
     "data": {
      "text/plain": [
       "0    500.000000\n",
       "1      0.553280\n",
       "2      0.046081\n",
       "3      0.397644\n",
       "4      0.098913\n",
       "dtype: float64"
      ]
     },
     "execution_count": 13,
     "metadata": {},
     "output_type": "execute_result"
    }
   ],
   "source": [
    "s"
   ]
  },
  {
   "cell_type": "code",
   "execution_count": 14,
   "id": "8f884abe",
   "metadata": {},
   "outputs": [],
   "source": [
    "s.index = ['1','2','3','4','5']"
   ]
  },
  {
   "cell_type": "code",
   "execution_count": 15,
   "id": "fcffb6e5",
   "metadata": {},
   "outputs": [
    {
     "data": {
      "text/plain": [
       "1    500.000000\n",
       "2      0.553280\n",
       "3      0.046081\n",
       "4      0.397644\n",
       "5      0.098913\n",
       "dtype: float64"
      ]
     },
     "execution_count": 15,
     "metadata": {},
     "output_type": "execute_result"
    }
   ],
   "source": [
    "s"
   ]
  },
  {
   "cell_type": "code",
   "execution_count": 16,
   "id": "e71e9b68",
   "metadata": {},
   "outputs": [],
   "source": [
    "## creating series using dictionary ##"
   ]
  },
  {
   "cell_type": "code",
   "execution_count": 18,
   "id": "fc6cac3a",
   "metadata": {},
   "outputs": [
    {
     "data": {
      "text/plain": [
       "{'a': 1, 'b': 2, 'c': 3, 'd': 4}"
      ]
     },
     "execution_count": 18,
     "metadata": {},
     "output_type": "execute_result"
    }
   ],
   "source": [
    "d = {'a':1, 'b':2, 'c':3, 'd':4}\n",
    "d"
   ]
  },
  {
   "cell_type": "code",
   "execution_count": 20,
   "id": "522b85df",
   "metadata": {},
   "outputs": [],
   "source": [
    "e = pd.Series(d)"
   ]
  },
  {
   "cell_type": "code",
   "execution_count": 21,
   "id": "412ef570",
   "metadata": {},
   "outputs": [
    {
     "data": {
      "text/plain": [
       "a    1\n",
       "b    2\n",
       "c    3\n",
       "d    4\n",
       "dtype: int64"
      ]
     },
     "execution_count": 21,
     "metadata": {},
     "output_type": "execute_result"
    }
   ],
   "source": [
    "e"
   ]
  },
  {
   "cell_type": "markdown",
   "id": "0c4641d8",
   "metadata": {},
   "source": [
    "## DataFrame ##"
   ]
  },
  {
   "cell_type": "code",
   "execution_count": 22,
   "id": "18920627",
   "metadata": {},
   "outputs": [],
   "source": [
    "## creating a data frame of two series ##"
   ]
  },
  {
   "cell_type": "code",
   "execution_count": 23,
   "id": "3bee4e20",
   "metadata": {},
   "outputs": [],
   "source": [
    "s1 = pd.Series(np.random.rand(5))\n",
    "s2 = pd.Series(np.random.rand(5))"
   ]
  },
  {
   "cell_type": "code",
   "execution_count": 24,
   "id": "6d51994d",
   "metadata": {},
   "outputs": [
    {
     "data": {
      "text/plain": [
       "0    0.103129\n",
       "1    0.636125\n",
       "2    0.729909\n",
       "3    0.038938\n",
       "4    0.861541\n",
       "dtype: float64"
      ]
     },
     "execution_count": 24,
     "metadata": {},
     "output_type": "execute_result"
    }
   ],
   "source": [
    "s1"
   ]
  },
  {
   "cell_type": "code",
   "execution_count": 25,
   "id": "065a7d42",
   "metadata": {},
   "outputs": [
    {
     "data": {
      "text/plain": [
       "0    0.155612\n",
       "1    0.163625\n",
       "2    0.062612\n",
       "3    0.440042\n",
       "4    0.231957\n",
       "dtype: float64"
      ]
     },
     "execution_count": 25,
     "metadata": {},
     "output_type": "execute_result"
    }
   ],
   "source": [
    "s2"
   ]
  },
  {
   "cell_type": "code",
   "execution_count": 26,
   "id": "cfdf2850",
   "metadata": {},
   "outputs": [],
   "source": [
    "a = pd.DataFrame([s1, s2])"
   ]
  },
  {
   "cell_type": "code",
   "execution_count": 27,
   "id": "5c9965ba",
   "metadata": {},
   "outputs": [
    {
     "data": {
      "text/html": [
       "<div>\n",
       "<style scoped>\n",
       "    .dataframe tbody tr th:only-of-type {\n",
       "        vertical-align: middle;\n",
       "    }\n",
       "\n",
       "    .dataframe tbody tr th {\n",
       "        vertical-align: top;\n",
       "    }\n",
       "\n",
       "    .dataframe thead th {\n",
       "        text-align: right;\n",
       "    }\n",
       "</style>\n",
       "<table border=\"1\" class=\"dataframe\">\n",
       "  <thead>\n",
       "    <tr style=\"text-align: right;\">\n",
       "      <th></th>\n",
       "      <th>0</th>\n",
       "      <th>1</th>\n",
       "      <th>2</th>\n",
       "      <th>3</th>\n",
       "      <th>4</th>\n",
       "    </tr>\n",
       "  </thead>\n",
       "  <tbody>\n",
       "    <tr>\n",
       "      <th>0</th>\n",
       "      <td>0.103129</td>\n",
       "      <td>0.636125</td>\n",
       "      <td>0.729909</td>\n",
       "      <td>0.038938</td>\n",
       "      <td>0.861541</td>\n",
       "    </tr>\n",
       "    <tr>\n",
       "      <th>1</th>\n",
       "      <td>0.155612</td>\n",
       "      <td>0.163625</td>\n",
       "      <td>0.062612</td>\n",
       "      <td>0.440042</td>\n",
       "      <td>0.231957</td>\n",
       "    </tr>\n",
       "  </tbody>\n",
       "</table>\n",
       "</div>"
      ],
      "text/plain": [
       "          0         1         2         3         4\n",
       "0  0.103129  0.636125  0.729909  0.038938  0.861541\n",
       "1  0.155612  0.163625  0.062612  0.440042  0.231957"
      ]
     },
     "execution_count": 27,
     "metadata": {},
     "output_type": "execute_result"
    }
   ],
   "source": [
    "a"
   ]
  },
  {
   "cell_type": "code",
   "execution_count": 28,
   "id": "92b0ddb7",
   "metadata": {},
   "outputs": [],
   "source": [
    "a.columns = ['a', 'b', 'c', 'd', 'e']"
   ]
  },
  {
   "cell_type": "code",
   "execution_count": 29,
   "id": "455041df",
   "metadata": {},
   "outputs": [
    {
     "data": {
      "text/html": [
       "<div>\n",
       "<style scoped>\n",
       "    .dataframe tbody tr th:only-of-type {\n",
       "        vertical-align: middle;\n",
       "    }\n",
       "\n",
       "    .dataframe tbody tr th {\n",
       "        vertical-align: top;\n",
       "    }\n",
       "\n",
       "    .dataframe thead th {\n",
       "        text-align: right;\n",
       "    }\n",
       "</style>\n",
       "<table border=\"1\" class=\"dataframe\">\n",
       "  <thead>\n",
       "    <tr style=\"text-align: right;\">\n",
       "      <th></th>\n",
       "      <th>a</th>\n",
       "      <th>b</th>\n",
       "      <th>c</th>\n",
       "      <th>d</th>\n",
       "      <th>e</th>\n",
       "    </tr>\n",
       "  </thead>\n",
       "  <tbody>\n",
       "    <tr>\n",
       "      <th>0</th>\n",
       "      <td>0.103129</td>\n",
       "      <td>0.636125</td>\n",
       "      <td>0.729909</td>\n",
       "      <td>0.038938</td>\n",
       "      <td>0.861541</td>\n",
       "    </tr>\n",
       "    <tr>\n",
       "      <th>1</th>\n",
       "      <td>0.155612</td>\n",
       "      <td>0.163625</td>\n",
       "      <td>0.062612</td>\n",
       "      <td>0.440042</td>\n",
       "      <td>0.231957</td>\n",
       "    </tr>\n",
       "  </tbody>\n",
       "</table>\n",
       "</div>"
      ],
      "text/plain": [
       "          a         b         c         d         e\n",
       "0  0.103129  0.636125  0.729909  0.038938  0.861541\n",
       "1  0.155612  0.163625  0.062612  0.440042  0.231957"
      ]
     },
     "execution_count": 29,
     "metadata": {},
     "output_type": "execute_result"
    }
   ],
   "source": [
    "a"
   ]
  },
  {
   "cell_type": "code",
   "execution_count": 30,
   "id": "bc1e89a3",
   "metadata": {},
   "outputs": [],
   "source": [
    "a.index = ['1','2']"
   ]
  },
  {
   "cell_type": "code",
   "execution_count": 31,
   "id": "eff5bcf3",
   "metadata": {},
   "outputs": [
    {
     "data": {
      "text/html": [
       "<div>\n",
       "<style scoped>\n",
       "    .dataframe tbody tr th:only-of-type {\n",
       "        vertical-align: middle;\n",
       "    }\n",
       "\n",
       "    .dataframe tbody tr th {\n",
       "        vertical-align: top;\n",
       "    }\n",
       "\n",
       "    .dataframe thead th {\n",
       "        text-align: right;\n",
       "    }\n",
       "</style>\n",
       "<table border=\"1\" class=\"dataframe\">\n",
       "  <thead>\n",
       "    <tr style=\"text-align: right;\">\n",
       "      <th></th>\n",
       "      <th>a</th>\n",
       "      <th>b</th>\n",
       "      <th>c</th>\n",
       "      <th>d</th>\n",
       "      <th>e</th>\n",
       "    </tr>\n",
       "  </thead>\n",
       "  <tbody>\n",
       "    <tr>\n",
       "      <th>1</th>\n",
       "      <td>0.103129</td>\n",
       "      <td>0.636125</td>\n",
       "      <td>0.729909</td>\n",
       "      <td>0.038938</td>\n",
       "      <td>0.861541</td>\n",
       "    </tr>\n",
       "    <tr>\n",
       "      <th>2</th>\n",
       "      <td>0.155612</td>\n",
       "      <td>0.163625</td>\n",
       "      <td>0.062612</td>\n",
       "      <td>0.440042</td>\n",
       "      <td>0.231957</td>\n",
       "    </tr>\n",
       "  </tbody>\n",
       "</table>\n",
       "</div>"
      ],
      "text/plain": [
       "          a         b         c         d         e\n",
       "1  0.103129  0.636125  0.729909  0.038938  0.861541\n",
       "2  0.155612  0.163625  0.062612  0.440042  0.231957"
      ]
     },
     "execution_count": 31,
     "metadata": {},
     "output_type": "execute_result"
    }
   ],
   "source": [
    "a"
   ]
  },
  {
   "cell_type": "code",
   "execution_count": 32,
   "id": "0d1f8357",
   "metadata": {},
   "outputs": [],
   "source": [
    "## creating a data frame using dictionary ##"
   ]
  },
  {
   "cell_type": "code",
   "execution_count": 33,
   "id": "a78245be",
   "metadata": {},
   "outputs": [
    {
     "data": {
      "text/plain": [
       "{'age': [22, 32, 42], 'salary': [1000, 2000, 3000]}"
      ]
     },
     "execution_count": 33,
     "metadata": {},
     "output_type": "execute_result"
    }
   ],
   "source": [
    "d = {'age':[22,32,42], 'salary':[1000, 2000, 3000]}\n",
    "d"
   ]
  },
  {
   "cell_type": "code",
   "execution_count": 34,
   "id": "ff3868b4",
   "metadata": {},
   "outputs": [],
   "source": [
    "df = pd.DataFrame(d)"
   ]
  },
  {
   "cell_type": "code",
   "execution_count": 35,
   "id": "e93e383d",
   "metadata": {},
   "outputs": [
    {
     "data": {
      "text/html": [
       "<div>\n",
       "<style scoped>\n",
       "    .dataframe tbody tr th:only-of-type {\n",
       "        vertical-align: middle;\n",
       "    }\n",
       "\n",
       "    .dataframe tbody tr th {\n",
       "        vertical-align: top;\n",
       "    }\n",
       "\n",
       "    .dataframe thead th {\n",
       "        text-align: right;\n",
       "    }\n",
       "</style>\n",
       "<table border=\"1\" class=\"dataframe\">\n",
       "  <thead>\n",
       "    <tr style=\"text-align: right;\">\n",
       "      <th></th>\n",
       "      <th>age</th>\n",
       "      <th>salary</th>\n",
       "    </tr>\n",
       "  </thead>\n",
       "  <tbody>\n",
       "    <tr>\n",
       "      <th>0</th>\n",
       "      <td>22</td>\n",
       "      <td>1000</td>\n",
       "    </tr>\n",
       "    <tr>\n",
       "      <th>1</th>\n",
       "      <td>32</td>\n",
       "      <td>2000</td>\n",
       "    </tr>\n",
       "    <tr>\n",
       "      <th>2</th>\n",
       "      <td>42</td>\n",
       "      <td>3000</td>\n",
       "    </tr>\n",
       "  </tbody>\n",
       "</table>\n",
       "</div>"
      ],
      "text/plain": [
       "   age  salary\n",
       "0   22    1000\n",
       "1   32    2000\n",
       "2   42    3000"
      ]
     },
     "execution_count": 35,
     "metadata": {},
     "output_type": "execute_result"
    }
   ],
   "source": [
    "df"
   ]
  },
  {
   "cell_type": "code",
   "execution_count": 36,
   "id": "e34bcd11",
   "metadata": {},
   "outputs": [],
   "source": [
    "df['gender'] = ['Male','Female','Male']"
   ]
  },
  {
   "cell_type": "code",
   "execution_count": 37,
   "id": "9ec4beb6",
   "metadata": {},
   "outputs": [
    {
     "data": {
      "text/html": [
       "<div>\n",
       "<style scoped>\n",
       "    .dataframe tbody tr th:only-of-type {\n",
       "        vertical-align: middle;\n",
       "    }\n",
       "\n",
       "    .dataframe tbody tr th {\n",
       "        vertical-align: top;\n",
       "    }\n",
       "\n",
       "    .dataframe thead th {\n",
       "        text-align: right;\n",
       "    }\n",
       "</style>\n",
       "<table border=\"1\" class=\"dataframe\">\n",
       "  <thead>\n",
       "    <tr style=\"text-align: right;\">\n",
       "      <th></th>\n",
       "      <th>age</th>\n",
       "      <th>salary</th>\n",
       "      <th>gender</th>\n",
       "    </tr>\n",
       "  </thead>\n",
       "  <tbody>\n",
       "    <tr>\n",
       "      <th>0</th>\n",
       "      <td>22</td>\n",
       "      <td>1000</td>\n",
       "      <td>Male</td>\n",
       "    </tr>\n",
       "    <tr>\n",
       "      <th>1</th>\n",
       "      <td>32</td>\n",
       "      <td>2000</td>\n",
       "      <td>Female</td>\n",
       "    </tr>\n",
       "    <tr>\n",
       "      <th>2</th>\n",
       "      <td>42</td>\n",
       "      <td>3000</td>\n",
       "      <td>Male</td>\n",
       "    </tr>\n",
       "  </tbody>\n",
       "</table>\n",
       "</div>"
      ],
      "text/plain": [
       "   age  salary  gender\n",
       "0   22    1000    Male\n",
       "1   32    2000  Female\n",
       "2   42    3000    Male"
      ]
     },
     "execution_count": 37,
     "metadata": {},
     "output_type": "execute_result"
    }
   ],
   "source": [
    "df"
   ]
  },
  {
   "cell_type": "code",
   "execution_count": null,
   "id": "2416abaf",
   "metadata": {},
   "outputs": [],
   "source": []
  }
 ],
 "metadata": {
  "kernelspec": {
   "display_name": "Python 3 (ipykernel)",
   "language": "python",
   "name": "python3"
  },
  "language_info": {
   "codemirror_mode": {
    "name": "ipython",
    "version": 3
   },
   "file_extension": ".py",
   "mimetype": "text/x-python",
   "name": "python",
   "nbconvert_exporter": "python",
   "pygments_lexer": "ipython3",
   "version": "3.9.13"
  }
 },
 "nbformat": 4,
 "nbformat_minor": 5
}
