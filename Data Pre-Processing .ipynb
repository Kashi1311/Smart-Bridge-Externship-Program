{
 "cells": [
  {
   "cell_type": "markdown",
   "id": "91f59bdd",
   "metadata": {},
   "source": [
    "Data Pre-Processing:\n",
    "Transform raw data into useful and efficient formats.\n",
    "\n",
    "Major tasks performed in data pre-processing are :\n",
    "    1- Data Integrtion ---> Integration of data from various sources and bringing integrated data into common format.\n",
    "    2- Data Cleaning   ---> dealing with missing values, remove noise from data, remove outliers from data, dealing with                                     duplicated data, remove inconsistencies form data.\n",
    "    \n",
    "   3- Data Transformation --> Feature-Scaling, Dealing With Categorical data, Dealing with imbalanced data, Feature Engineering,\n",
    "                              Train-Test-Split."
   ]
  },
  {
   "cell_type": "markdown",
   "id": "a414a57d",
   "metadata": {},
   "source": [
    "Note: If there is a missing in numerical type of data then we fill the missing value by either mean or median. IF there is             categorical columnn then we replace it with the mode.\n",
    "      \n",
    "   If in our dataset 60% data if is missing then we can delete data rows and cells ."
   ]
  },
  {
   "cell_type": "markdown",
   "id": "b7af0361",
   "metadata": {},
   "source": [
    "To types of Categorical Features:\n",
    "  1- Nominal type\n",
    "  2- Ordinal type\n",
    "  \n",
    "Techinques to handle Categorical data:\n",
    "  1- Map()\n",
    "  2- Lable Encoding()\n",
    "  3- One Hot Encoding\n",
    "  4- Dummy Variables"
   ]
  },
  {
   "cell_type": "markdown",
   "id": "9c6c9aaf",
   "metadata": {},
   "source": [
    "Dealing with Imbalanced data: \n",
    "  1- Oversampling data\n",
    "  2- Undersampling data\n",
    "  "
   ]
  },
  {
   "cell_type": "code",
   "execution_count": null,
   "id": "6dfae7ac",
   "metadata": {},
   "outputs": [],
   "source": []
  }
 ],
 "metadata": {
  "kernelspec": {
   "display_name": "Python 3 (ipykernel)",
   "language": "python",
   "name": "python3"
  },
  "language_info": {
   "codemirror_mode": {
    "name": "ipython",
    "version": 3
   },
   "file_extension": ".py",
   "mimetype": "text/x-python",
   "name": "python",
   "nbconvert_exporter": "python",
   "pygments_lexer": "ipython3",
   "version": "3.9.13"
  }
 },
 "nbformat": 4,
 "nbformat_minor": 5
}
